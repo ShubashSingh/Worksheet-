{
  "nbformat": 4,
  "nbformat_minor": 0,
  "metadata": {
    "colab": {
      "provenance": []
    },
    "kernelspec": {
      "name": "python3",
      "display_name": "Python 3"
    },
    "language_info": {
      "name": "python"
    }
  },
  "cells": [
    {
      "cell_type": "markdown",
      "source": [
        "**3\tTo - Do - Task**\n",
        "\n",
        "**3.1\tWarming Up Exercises - Basic Inspection and Exploration:**\n",
        "\n",
        "Problem 1 - Data Read, Write and Inspect:\n",
        "Complete all following Task:\n",
        "• Dataset for the Task: \"bank.csv\"\n",
        "1.\tLoad the provided dataset and import in pandas DataFrame.\n",
        "2.\tCheck info of the DataFrame and identify following:\n",
        "(a)\tcolumns with dtypes=object\n",
        "(b)\tunique values of those columns.\n",
        "(c)\tcheck for the total number of null values in each column.\n",
        "3.\tDrop all the columns with dtypes object and store in new DataFrame, also write the DataFrame in ”.csv” with name ”banknumericdata.csv”\n",
        "4.\tRead ”banknumericdata.csv” and Find the summary statistics.\n"
      ],
      "metadata": {
        "id": "ECqhrp0caPo9"
      }
    },
    {
      "cell_type": "code",
      "source": [
        "import pandas as pd\n",
        "\n",
        "# 1. Load the provided dataset and import into a pandas DataFrame\n",
        "df = pd.read_csv(\"/content/drive/MyDrive/bank .csv\")\n",
        "print(\"Dataset loaded successfully.\")\n",
        "\n",
        "# 2. Inspect the DataFrame\n",
        "# (a) Check columns with dtype=object\n",
        "object_columns = df.select_dtypes(include=['object']).columns\n",
        "print(\"\\nColumns with dtype=object:\")\n",
        "print(object_columns)\n",
        "\n",
        "# (b) Find unique values in these object columns\n",
        "print(\"\\nUnique values for columns with dtype=object:\")\n",
        "for col in object_columns:\n",
        "    print(f\"{col}: {df[col].unique()}\")\n",
        "\n",
        "# (c) Check for the total number of null values in each column\n",
        "null_values = df.isnull().sum()\n",
        "print(\"\\nTotal number of null values in each column:\")\n",
        "print(null_values)\n",
        "\n",
        "# 3. Drop all columns with dtype=object and store in a new DataFrame\n",
        "df_numeric = df.select_dtypes(exclude=['object'])\n",
        "df_numeric.to_csv(\"banknumericdata.csv\", index=False)\n",
        "print(\"\\nNumeric data saved as 'banknumericdata.csv'.\")\n",
        "\n",
        "# 4. Read \"banknumericdata.csv\" and find summary statistics\n",
        "df_numeric_read = pd.read_csv(\"banknumericdata.csv\")\n",
        "summary_statistics = df_numeric_read.describe()\n",
        "print(\"\\nSummary statistics for the numeric data:\")\n",
        "print(summary_statistics)\n"
      ],
      "metadata": {
        "colab": {
          "base_uri": "https://localhost:8080/"
        },
        "id": "m-27TvRFdCPb",
        "outputId": "544f3332-be32-433c-d992-8f04f06a728a"
      },
      "execution_count": null,
      "outputs": [
        {
          "output_type": "stream",
          "name": "stdout",
          "text": [
            "Dataset loaded successfully.\n",
            "\n",
            "Columns with dtype=object:\n",
            "Index(['job', 'marital', 'education', 'default', 'housing', 'loan', 'contact',\n",
            "       'month', 'poutcome', 'y'],\n",
            "      dtype='object')\n",
            "\n",
            "Unique values for columns with dtype=object:\n",
            "job: ['management' 'technician' 'entrepreneur' 'blue-collar' 'unknown'\n",
            " 'retired' 'admin.' 'services' 'self-employed' 'unemployed' 'housemaid'\n",
            " 'student']\n",
            "marital: ['married' 'single' 'divorced']\n",
            "education: ['tertiary' 'secondary' 'unknown' 'primary']\n",
            "default: ['no' 'yes']\n",
            "housing: ['yes' 'no']\n",
            "loan: ['no' 'yes']\n",
            "contact: ['unknown' 'cellular' 'telephone']\n",
            "month: ['may' 'jun' 'jul' 'aug' 'oct' 'nov' 'dec' 'jan' 'feb' 'mar' 'apr' 'sep']\n",
            "poutcome: ['unknown' 'failure' 'other' 'success']\n",
            "y: ['no' 'yes']\n",
            "\n",
            "Total number of null values in each column:\n",
            "age          0\n",
            "job          0\n",
            "marital      0\n",
            "education    0\n",
            "default      0\n",
            "balance      0\n",
            "housing      0\n",
            "loan         0\n",
            "contact      0\n",
            "day          0\n",
            "month        0\n",
            "duration     0\n",
            "campaign     0\n",
            "pdays        0\n",
            "previous     0\n",
            "poutcome     0\n",
            "y            0\n",
            "dtype: int64\n",
            "\n",
            "Numeric data saved as 'banknumericdata.csv'.\n",
            "\n",
            "Summary statistics for the numeric data:\n",
            "                age        balance           day      duration      campaign  \\\n",
            "count  45211.000000   45211.000000  45211.000000  45211.000000  45211.000000   \n",
            "mean      40.936210    1362.272058     15.806419    258.163080      2.763841   \n",
            "std       10.618762    3044.765829      8.322476    257.527812      3.098021   \n",
            "min       18.000000   -8019.000000      1.000000      0.000000      1.000000   \n",
            "25%       33.000000      72.000000      8.000000    103.000000      1.000000   \n",
            "50%       39.000000     448.000000     16.000000    180.000000      2.000000   \n",
            "75%       48.000000    1428.000000     21.000000    319.000000      3.000000   \n",
            "max       95.000000  102127.000000     31.000000   4918.000000     63.000000   \n",
            "\n",
            "              pdays      previous  \n",
            "count  45211.000000  45211.000000  \n",
            "mean      40.197828      0.580323  \n",
            "std      100.128746      2.303441  \n",
            "min       -1.000000      0.000000  \n",
            "25%       -1.000000      0.000000  \n",
            "50%       -1.000000      0.000000  \n",
            "75%       -1.000000      0.000000  \n",
            "max      871.000000    275.000000  \n"
          ]
        }
      ]
    },
    {
      "cell_type": "markdown",
      "source": [
        "**Problem 2 - Data Imputations:**\n",
        "\n",
        "Complete all the following Task:\n",
        "\n",
        "• Dataset for the Task: \"medical_student.csv\"\n",
        "1.\tLoad the provided dataset and import in pandas DataFrame.\n",
        "2.\tCheck info of the DataFrame and identify column with missing (null) values.\n",
        "3.\tFor the column with missing values fill the values using various techniques we discussed above. Try to explain why did you select the particular methods for particular column.\n",
        "4.\tCheck for any duplicate values present in Dataset and do necessary to manage the duplicate items. {Hint: dataset.duplicated.sum()}\n"
      ],
      "metadata": {
        "id": "1BppgcQ8diiB"
      }
    },
    {
      "cell_type": "code",
      "source": [
        "import pandas as pd\n",
        "\n",
        "# 1. Load the dataset into a pandas DataFrame\n",
        "df = pd.read_csv(\"/content/drive/MyDrive/bank .csv\")\n",
        "print(\"Dataset loaded successfully.\")\n",
        "\n",
        "# 2. Check info of the DataFrame and identify columns with missing (null) values\n",
        "print(\"\\nDataFrame Info:\")\n",
        "print(df.info())\n",
        "\n",
        "# Identify columns with missing values\n",
        "missing_values = df.isnull().sum()\n",
        "missing_columns = missing_values[missing_values > 0]\n",
        "print(\"\\nColumns with missing values:\")\n",
        "print(missing_columns)\n",
        "\n",
        "# 3. Fill missing values with appropriate techniques\n",
        "# Iterate through columns with missing values and fill them\n",
        "for column in missing_columns.index:\n",
        "    if df[column].dtype == \"object\":\n",
        "        # For categorical columns, fill missing values with the mode\n",
        "        mode_value = df[column].mode()[0]\n",
        "        df[column].fillna(mode_value, inplace=True)\n",
        "        print(f\"Filled missing values in column '{column}' with mode: {mode_value}\")\n",
        "    else:\n",
        "        # For numerical columns, fill missing values with the mean\n",
        "        mean_value = df[column].mean()\n",
        "        df[column].fillna(mean_value, inplace=True)\n",
        "        print(f\"Filled missing values in column '{column}' with mean: {mean_value}\")\n",
        "\n",
        "# 4. Check for duplicate values and manage them\n",
        "duplicates_count = df.duplicated().sum()\n",
        "print(f\"\\nNumber of duplicate rows in the dataset: {duplicates_count}\")\n",
        "\n",
        "# Drop duplicate rows if they exist\n",
        "if duplicates_count > 0:\n",
        "    df.drop_duplicates(inplace=True)\n",
        "    print(\"Duplicate rows have been dropped.\")\n",
        "\n",
        "# Save the cleaned dataset for future use\n",
        "df.to_csv(\"medical_student_cleaned.csv\", index=False)\n",
        "print(\"\\nCleaned dataset saved as 'medical_student_cleaned.csv'.\")\n"
      ],
      "metadata": {
        "colab": {
          "base_uri": "https://localhost:8080/"
        },
        "id": "Ot0newmFdoFX",
        "outputId": "300a19df-31dd-4bde-d7dd-10109a2788b2"
      },
      "execution_count": null,
      "outputs": [
        {
          "output_type": "stream",
          "name": "stdout",
          "text": [
            "Dataset loaded successfully.\n",
            "\n",
            "DataFrame Info:\n",
            "<class 'pandas.core.frame.DataFrame'>\n",
            "RangeIndex: 45211 entries, 0 to 45210\n",
            "Data columns (total 17 columns):\n",
            " #   Column     Non-Null Count  Dtype \n",
            "---  ------     --------------  ----- \n",
            " 0   age        45211 non-null  int64 \n",
            " 1   job        45211 non-null  object\n",
            " 2   marital    45211 non-null  object\n",
            " 3   education  45211 non-null  object\n",
            " 4   default    45211 non-null  object\n",
            " 5   balance    45211 non-null  int64 \n",
            " 6   housing    45211 non-null  object\n",
            " 7   loan       45211 non-null  object\n",
            " 8   contact    45211 non-null  object\n",
            " 9   day        45211 non-null  int64 \n",
            " 10  month      45211 non-null  object\n",
            " 11  duration   45211 non-null  int64 \n",
            " 12  campaign   45211 non-null  int64 \n",
            " 13  pdays      45211 non-null  int64 \n",
            " 14  previous   45211 non-null  int64 \n",
            " 15  poutcome   45211 non-null  object\n",
            " 16  y          45211 non-null  object\n",
            "dtypes: int64(7), object(10)\n",
            "memory usage: 5.9+ MB\n",
            "None\n",
            "\n",
            "Columns with missing values:\n",
            "Series([], dtype: int64)\n",
            "\n",
            "Number of duplicate rows in the dataset: 0\n",
            "\n",
            "Cleaned dataset saved as 'medical_student_cleaned.csv'.\n"
          ]
        }
      ]
    },
    {
      "cell_type": "markdown",
      "source": [
        "**3.2\tExercises - Data Cleaning and Transformations with ”Titanic Dataset”**:\n",
        "\n",
        "**Dataset Used: \"titanic.csv\"**\n",
        "\n",
        "**Problem - 1:**\n",
        "\n",
        "Create a DataFrame that is subsetted for the columns ’Name’, ’Pclass’, ’Sex’, ’Age’, ’Fare’, and ’Survived’. Retain only those rows where ’Pclass’ is equal to 1, representing first-class passengers. What is the mean, median, maximum value, and minimum value of the ’Fare’ column?\n"
      ],
      "metadata": {
        "id": "wkgu2RXVd1XM"
      }
    },
    {
      "cell_type": "code",
      "source": [
        "import pandas as pd\n",
        "\n",
        "# Load the Titanic dataset\n",
        "df = pd.read_csv(\"/content/drive/MyDrive/Titanic-Dataset.csv\")\n",
        "print(\"Dataset loaded successfully.\")\n",
        "\n",
        "# Create a subset DataFrame for the specified columns\n",
        "subset_df = df[['Name', 'Pclass', 'Sex', 'Age', 'Fare', 'Survived']]\n",
        "\n",
        "# Retain only rows where 'Pclass' is equal to 1\n",
        "first_class_df = subset_df[subset_df['Pclass'] == 1]\n",
        "\n",
        "# Calculate the mean, median, max, and min of the 'Fare' column\n",
        "mean_fare = first_class_df['Fare'].mean()\n",
        "median_fare = first_class_df['Fare'].median()\n",
        "max_fare = first_class_df['Fare'].max()\n",
        "min_fare = first_class_df['Fare'].min()\n",
        "\n",
        "# Display the results\n",
        "print(\"\\nStatistics for 'Fare' column for first-class passengers:\")\n",
        "print(f\"Mean Fare: {mean_fare:.2f}\")\n",
        "print(f\"Median Fare: {median_fare:.2f}\")\n",
        "print(f\"Maximum Fare: {max_fare:.2f}\")\n",
        "print(f\"Minimum Fare: {min_fare:.2f}\")\n"
      ],
      "metadata": {
        "id": "gN9OZTPnePN6",
        "outputId": "d9d2aed3-f807-4af5-c38d-917645c7dd03",
        "colab": {
          "base_uri": "https://localhost:8080/"
        }
      },
      "execution_count": 5,
      "outputs": [
        {
          "output_type": "stream",
          "name": "stdout",
          "text": [
            "Dataset loaded successfully.\n",
            "\n",
            "Statistics for 'Fare' column for first-class passengers:\n",
            "Mean Fare: 84.15\n",
            "Median Fare: 60.29\n",
            "Maximum Fare: 512.33\n",
            "Minimum Fare: 0.00\n"
          ]
        }
      ]
    },
    {
      "cell_type": "markdown",
      "source": [
        "**Problem - 2:**\n",
        "\n",
        "How many null values are contained in the ’Age’ column in your subsetted DataFrame? Once you’ve found this out, drop them from your DataFrame.\n"
      ],
      "metadata": {
        "id": "DdzzgKzleyO8"
      }
    },
    {
      "cell_type": "code",
      "source": [
        "# Check for null values in the 'Age' column of the subsetted DataFrame\n",
        "null_age_count = first_class_df['Age'].isnull().sum()\n",
        "print(f\"\\nNumber of null values in the 'Age' column: {null_age_count}\")\n",
        "\n",
        "# Drop rows with null values in the 'Age' column\n",
        "cleaned_first_class_df = first_class_df.dropna(subset=['Age'])\n",
        "\n",
        "# Verify that null values have been removed\n",
        "null_age_count_after = cleaned_first_class_df['Age'].isnull().sum()\n",
        "print(f\"Number of null values in the 'Age' column after dropping: {null_age_count_after}\")\n"
      ],
      "metadata": {
        "colab": {
          "base_uri": "https://localhost:8080/"
        },
        "id": "iz1gLCgde6pW",
        "outputId": "8ff8fa31-0d4c-43ca-b371-d931b5f0b41b"
      },
      "execution_count": 6,
      "outputs": [
        {
          "output_type": "stream",
          "name": "stdout",
          "text": [
            "\n",
            "Number of null values in the 'Age' column: 30\n",
            "Number of null values in the 'Age' column after dropping: 0\n"
          ]
        }
      ]
    },
    {
      "cell_type": "markdown",
      "source": [
        "**Problem - 3:**\n",
        "\n",
        "The ’Embarked’ column in the Titanic dataset contains categorical data representing the ports of embarkation:\n",
        "\n",
        "•\t’C’ for Cherbourg\n",
        "\n",
        "•\t’Q’ for Queenstown\n",
        "\n",
        "•\t’S’ for Southampton\n",
        "\n",
        "Task:\n",
        "1.\tUse one-hot encoding to convert the ’Embarked’ column into separate binary columns (’Embarked C’, ’Embarked Q’, ’Embarked S’).\n",
        "2.\tAdd these new columns to the original DataFrame.\n",
        "3.\tDrop the original ’Embarked’ column.\n",
        "4.\tPrint the first few rows of the modified DataFrame to verify the changes.\n",
        "\n"
      ],
      "metadata": {
        "id": "surrzKVEfC_h"
      }
    },
    {
      "cell_type": "code",
      "source": [
        "# Perform one-hot encoding for the 'Embarked' column\n",
        "embarked_one_hot = pd.get_dummies(df['Embarked'], prefix='Embarked')\n",
        "\n",
        "# Add the new one-hot encoded columns to the original DataFrame\n",
        "df = pd.concat([df, embarked_one_hot], axis=1)\n",
        "\n",
        "# Drop the original 'Embarked' column\n",
        "df.drop('Embarked', axis=1, inplace=True)\n",
        "\n",
        "# Print the first few rows to verify the changes\n",
        "print(\"\\nFirst few rows of the modified DataFrame:\")\n",
        "print(df.head())\n"
      ],
      "metadata": {
        "colab": {
          "base_uri": "https://localhost:8080/"
        },
        "id": "qiIapqUffMmh",
        "outputId": "a974d9a0-0bd9-4fab-dde0-99a163388785"
      },
      "execution_count": 8,
      "outputs": [
        {
          "output_type": "stream",
          "name": "stdout",
          "text": [
            "\n",
            "First few rows of the modified DataFrame:\n",
            "   PassengerId  Survived  Pclass  \\\n",
            "0            1         0       3   \n",
            "1            2         1       1   \n",
            "2            3         1       3   \n",
            "3            4         1       1   \n",
            "4            5         0       3   \n",
            "\n",
            "                                                Name     Sex   Age  SibSp  \\\n",
            "0                            Braund, Mr. Owen Harris    male  22.0      1   \n",
            "1  Cumings, Mrs. John Bradley (Florence Briggs Th...  female  38.0      1   \n",
            "2                             Heikkinen, Miss. Laina  female  26.0      0   \n",
            "3       Futrelle, Mrs. Jacques Heath (Lily May Peel)  female  35.0      1   \n",
            "4                           Allen, Mr. William Henry    male  35.0      0   \n",
            "\n",
            "   Parch            Ticket     Fare Cabin  Embarked_C  Embarked_Q  Embarked_S  \n",
            "0      0         A/5 21171   7.2500   NaN       False       False        True  \n",
            "1      0          PC 17599  71.2833   C85        True       False       False  \n",
            "2      0  STON/O2. 3101282   7.9250   NaN       False       False        True  \n",
            "3      0            113803  53.1000  C123       False       False        True  \n",
            "4      0            373450   8.0500   NaN       False       False        True  \n"
          ]
        }
      ]
    },
    {
      "cell_type": "markdown",
      "source": [
        "**Problem - 4:**\n",
        "\n",
        "Compare the mean survival rates (’Survived’) for the different groups in the ’Sex’ column. Draw a visualization to show how the survival distributions vary by gender.\n"
      ],
      "metadata": {
        "id": "v2XQZ-ZLfvV1"
      }
    },
    {
      "cell_type": "code",
      "source": [
        "import pandas as pd\n",
        "import seaborn as sns\n",
        "import matplotlib.pyplot as plt\n",
        "\n",
        "# Load the Titanic dataset\n",
        "df = pd.read_csv(\"/content/drive/MyDrive/Titanic-Dataset.csv\")\n",
        "\n",
        "# 1. Calculate the mean survival rates for each gender\n",
        "mean_survival_by_gender = df.groupby('Sex')['Survived'].mean()\n",
        "print(\"\\nMean survival rates by gender:\")\n",
        "print(mean_survival_by_gender)\n",
        "\n",
        "# 2. Create a visualization to show survival distributions by gender\n",
        "plt.figure(figsize=(8, 6))\n",
        "\n",
        "# Create a boxplot for survival by gender\n",
        "sns.boxplot(x='Sex', y='Survived', data=df)\n",
        "\n",
        "# Add title and labels\n",
        "plt.title('Survival Distribution by Gender')\n",
        "plt.xlabel('Gender')\n",
        "plt.ylabel('Survived (0 = No, 1 = Yes)')\n",
        "\n",
        "# Show the plot\n",
        "plt.show()\n"
      ],
      "metadata": {
        "colab": {
          "base_uri": "https://localhost:8080/",
          "height": 668
        },
        "id": "ySDYcMURf1H3",
        "outputId": "2a643dda-7467-44b0-86b5-fb4e9bb14878"
      },
      "execution_count": 10,
      "outputs": [
        {
          "output_type": "stream",
          "name": "stdout",
          "text": [
            "\n",
            "Mean survival rates by gender:\n",
            "Sex\n",
            "female    0.742038\n",
            "male      0.188908\n",
            "Name: Survived, dtype: float64\n"
          ]
        },
        {
          "output_type": "display_data",
          "data": {
            "text/plain": [
              "<Figure size 800x600 with 1 Axes>"
            ],
            "image/png": "[encoded data removed]"
          },
          "metadata": {}
        }
      ]
    },
    {
      "cell_type": "markdown",
      "source": [
        "**Problem - 5:**\n",
        "\n",
        "Draw a visualization that breaks your visualization from Exercise 3 down by the port of embarkation (’Embarked’). In this instance, compare the ports ’C’ (Cherbourg), ’Q’ (Queenstown), and ’S’ (Southampton).\n"
      ],
      "metadata": {
        "id": "W1iwPi_WgBSg"
      }
    },
    {
      "cell_type": "code",
      "source": [
        "import pandas as pd\n",
        "import seaborn as sns\n",
        "import matplotlib.pyplot as plt\n",
        "\n",
        "# Load the Titanic dataset\n",
        "df = pd.read_csv(\"/content/drive/MyDrive/Titanic-Dataset.csv\")\n",
        "\n",
        "# 1. Create a boxplot to compare survival distributions by gender and port of embarkation\n",
        "plt.figure(figsize=(10, 6))\n",
        "\n",
        "# Create a boxplot with 'Sex' on the x-axis, 'Survived' on the y-axis, and 'Embarked' as the hue\n",
        "sns.boxplot(x='Sex', y='Survived', hue='Embarked', data=df, palette=\"Set2\")\n",
        "\n",
        "# Add title and labels\n",
        "plt.title('Survival Distribution by Gender and Port of Embarkation')\n",
        "plt.xlabel('Gender')\n",
        "plt.ylabel('Survived (0 = No, 1 = Yes)')\n",
        "\n",
        "# Show the plot\n",
        "plt.show()\n"
      ],
      "metadata": {
        "colab": {
          "base_uri": "https://localhost:8080/",
          "height": 564
        },
        "id": "CmUeBj4OgFxM",
        "outputId": "e058b652-c1b0-4fc0-b2b3-11f21d508ed4"
      },
      "execution_count": 11,
      "outputs": [
        {
          "output_type": "display_data",
          "data": {
            "text/plain": [
              "<Figure size 1000x600 with 1 Axes>"
            ],
            "image/png": "[encoded data removed]"
          },
          "metadata": {}
        }
      ]
    },
    {
      "cell_type": "markdown",
      "source": [
        "**Problem - 6{Optional}:**\n",
        "\n",
        "Show how the survival rates (’Survived’) vary by age group and passenger class (’Pclass’). Break up the ’Age’ column into five quantiles in your DataFrame, and then compare the means of ’Survived’ by class and age group. Draw a visualization using a any plotting library to represent this graphically.\n"
      ],
      "metadata": {
        "id": "dWudaKwRgQgN"
      }
    },
    {
      "cell_type": "code",
      "source": [
        "import pandas as pd\n",
        "import seaborn as sns\n",
        "import matplotlib.pyplot as plt\n",
        "\n",
        "# Load the Titanic dataset\n",
        "df = pd.read_csv(\"/content/drive/MyDrive/Titanic-Dataset.csv\")\n",
        "\n",
        "# 1. Divide the 'Age' column into five quantiles\n",
        "age_groups = pd.qcut(df['Age'].dropna(), 5, labels=[\"Q1\", \"Q2\", \"Q3\", \"Q4\", \"Q5\"])\n",
        "\n",
        "# Add the age group labels to the DataFrame\n",
        "df['AgeGroup'] = age_groups\n",
        "\n",
        "# 2. Group by 'Pclass' and 'AgeGroup', and calculate the mean survival rate for each group\n",
        "mean_survival_by_class_age = df.groupby(['Pclass', 'AgeGroup'])['Survived'].mean().reset_index()\n",
        "\n",
        "# 3. Create a bar plot to visualize the mean survival rates by Pclass and Age Group\n",
        "plt.figure(figsize=(10, 6))\n",
        "\n",
        "# Create a barplot with 'Pclass' on the x-axis, 'Survived' on the y-axis, and 'AgeGroup' as hue\n",
        "sns.barplot(x='Pclass', y='Survived', hue='AgeGroup', data=mean_survival_by_class_age, palette=\"Set2\")\n",
        "\n",
        "# Add title and labels\n",
        "plt.title('Mean Survival Rates by Passenger Class and Age Group')\n",
        "plt.xlabel('Passenger Class')\n",
        "plt.ylabel('Mean Survival Rate')\n",
        "plt.legend(title=\"Age Group\", loc='upper left')\n",
        "\n",
        "# Show the plot\n",
        "plt.show()\n"
      ],
      "metadata": {
        "colab": {
          "base_uri": "https://localhost:8080/",
          "height": 619
        },
        "id": "UCjWYfLCgWe2",
        "outputId": "3ed4ef68-83b2-4386-8c75-f2032fe57cbe"
      },
      "execution_count": 12,
      "outputs": [
        {
          "output_type": "stream",
          "name": "stderr",
          "text": [
            "<ipython-input-12-0ff333a3e65a>:15: FutureWarning: The default of observed=False is deprecated and will be changed to True in a future version of pandas. Pass observed=False to retain current behavior or observed=True to adopt the future default and silence this warning.\n",
            "  mean_survival_by_class_age = df.groupby(['Pclass', 'AgeGroup'])['Survived'].mean().reset_index()\n"
          ]
        },
        {
          "output_type": "display_data",
          "data": {
            "text/plain": [
              "<Figure size 1000x600 with 1 Axes>"
            ],
            "image/png": "[encoded data removed]"
          },
          "metadata": {}
        }
      ]
    }
  ]
}