{
  "nbformat": 4,
  "nbformat_minor": 0,
  "metadata": {
    "colab": {
      "provenance": []
    },
    "kernelspec": {
      "name": "python3",
      "display_name": "Python 3"
    },
    "language_info": {
      "name": "python"
    }
  },
  "cells": [
    {
      "cell_type": "markdown",
      "source": [
        "**To - Do - Task**\n",
        "\n",
        "3.1\tWarm Up Exercises:\n",
        "1. Sorting and Subsetting:\n",
        "Complete all following Task:\n",
        "\n",
        "• Dataset for the Task: \"titanic.csv\"\n",
        "Following task is common for all the problem:\n",
        "1.\tLoad the provided dataset and import in pandas DataFrame.\n",
        "2.\tCheck info of the DataFrame and identify following:\n",
        "**Problem 1 - Sorting:**\n",
        "1.\tCreate a DataFrame called fare that contains only the Fare column of the Titanic dataset. Print the head of the result.\n",
        "2.\tCreate a DataFrame called class  age that contains only the Pclass and Age columns of the Titanic dataset, in that order. Print the head of the result.\n",
        "3.\tCreate a DataFrame called survived gender that contains the Survived and Sex columns of the Titanic dataset, in that order.Print the head of the result.\n"
      ],
      "metadata": {
        "id": "pCAMq6y7hEHp"
      }
    },
    {
      "cell_type": "code",
      "execution_count": 1,
      "metadata": {
        "colab": {
          "base_uri": "https://localhost:8080/"
        },
        "id": "UtZuIUTogtOu",
        "outputId": "07f4fc3e-37c7-404b-ab8d-b99ff2148490"
      },
      "outputs": [
        {
          "output_type": "stream",
          "name": "stdout",
          "text": [
            "Fare DataFrame:\n",
            "      Fare\n",
            "0   7.2500\n",
            "1  71.2833\n",
            "2   7.9250\n",
            "3  53.1000\n",
            "4   8.0500\n",
            "\n",
            "Class and Age DataFrame:\n",
            "   Pclass   Age\n",
            "0       3  22.0\n",
            "1       1  38.0\n",
            "2       3  26.0\n",
            "3       1  35.0\n",
            "4       3  35.0\n",
            "\n",
            "Survived and Gender DataFrame:\n",
            "   Survived     Sex\n",
            "0         0    male\n",
            "1         1  female\n",
            "2         1  female\n",
            "3         1  female\n",
            "4         0    male\n"
          ]
        }
      ],
      "source": [
        "import pandas as pd\n",
        "\n",
        "# Load the Titanic dataset\n",
        "df = pd.read_csv(\"/content/drive/MyDrive/Titanic-Dataset.csv\")\n",
        "\n",
        "# Task 1: Create a DataFrame called 'fare' containing only the 'Fare' column\n",
        "fare = df[['Fare']]\n",
        "print(\"Fare DataFrame:\")\n",
        "print(fare.head())\n",
        "\n",
        "# Task 2: Create a DataFrame called 'class_age' containing 'Pclass' and 'Age' columns\n",
        "class_age = df[['Pclass', 'Age']]\n",
        "print(\"\\nClass and Age DataFrame:\")\n",
        "print(class_age.head())\n",
        "\n",
        "# Task 3: Create a DataFrame called 'survived_gender' containing 'Survived' and 'Sex' columns\n",
        "survived_gender = df[['Survived', 'Sex']]\n",
        "print(\"\\nSurvived and Gender DataFrame:\")\n",
        "print(survived_gender.head())\n"
      ]
    },
    {
      "cell_type": "markdown",
      "source": [
        "**Problem - 2 - Subsetting:**\n",
        "\n",
        "Complete all the following Task:\n",
        "Subsetting Rows:\n",
        "1.\tFilter the Titanic dataset for cases where the passenger’s fare is greater than 100, assigning it to fare gt 100.View the printed result.\n"
      ],
      "metadata": {
        "id": "2X7E9S7EiR1k"
      }
    },
    {
      "cell_type": "code",
      "source": [
        "# Filter the Titanic dataset for passengers whose fare is greater than 100\n",
        "fare_gt_100 = df[df['Fare'] > 100]\n",
        "\n",
        "# Print the result\n",
        "print(\"Passengers with Fare greater than 100:\")\n",
        "print(fare_gt_100.head())\n"
      ],
      "metadata": {
        "colab": {
          "base_uri": "https://localhost:8080/"
        },
        "id": "nySm21dZi85O",
        "outputId": "30ebf727-e796-4d53-baab-9e77b5b48e64"
      },
      "execution_count": 2,
      "outputs": [
        {
          "output_type": "stream",
          "name": "stdout",
          "text": [
            "Passengers with Fare greater than 100:\n",
            "     PassengerId  Survived  Pclass  \\\n",
            "27            28         0       1   \n",
            "31            32         1       1   \n",
            "88            89         1       1   \n",
            "118          119         0       1   \n",
            "195          196         1       1   \n",
            "\n",
            "                                               Name     Sex   Age  SibSp  \\\n",
            "27                   Fortune, Mr. Charles Alexander    male  19.0      3   \n",
            "31   Spencer, Mrs. William Augustus (Marie Eugenie)  female   NaN      1   \n",
            "88                       Fortune, Miss. Mabel Helen  female  23.0      3   \n",
            "118                        Baxter, Mr. Quigg Edmond    male  24.0      0   \n",
            "195                            Lurette, Miss. Elise  female  58.0      0   \n",
            "\n",
            "     Parch    Ticket      Fare        Cabin Embarked  \n",
            "27       2     19950  263.0000  C23 C25 C27        S  \n",
            "31       0  PC 17569  146.5208          B78        C  \n",
            "88       2     19950  263.0000  C23 C25 C27        S  \n",
            "118      1  PC 17558  247.5208      B58 B60        C  \n",
            "195      0  PC 17569  146.5208          B80        C  \n"
          ]
        }
      ]
    },
    {
      "cell_type": "markdown",
      "source": [
        "2.\tFilter the Titanic dataset for cases where the passenger’s class (Pclass) is 1, assigning it to first class.View the printed result."
      ],
      "metadata": {
        "id": "U45fPlzDjBAp"
      }
    },
    {
      "cell_type": "code",
      "source": [
        "# Filter the Titanic dataset for passengers whose class (Pclass) is 1\n",
        "first_class = df[df['Pclass'] == 1]\n",
        "\n",
        "# Print the result\n",
        "print(\"\\nPassengers in First Class:\")\n",
        "print(first_class.head())\n"
      ],
      "metadata": {
        "colab": {
          "base_uri": "https://localhost:8080/"
        },
        "id": "wrKOAeDejDl0",
        "outputId": "628596cf-e812-4e43-d1f6-6e8463c5fcd9"
      },
      "execution_count": 3,
      "outputs": [
        {
          "output_type": "stream",
          "name": "stdout",
          "text": [
            "\n",
            "Passengers in First Class:\n",
            "    PassengerId  Survived  Pclass  \\\n",
            "1             2         1       1   \n",
            "3             4         1       1   \n",
            "6             7         0       1   \n",
            "11           12         1       1   \n",
            "23           24         1       1   \n",
            "\n",
            "                                                 Name     Sex   Age  SibSp  \\\n",
            "1   Cumings, Mrs. John Bradley (Florence Briggs Th...  female  38.0      1   \n",
            "3        Futrelle, Mrs. Jacques Heath (Lily May Peel)  female  35.0      1   \n",
            "6                             McCarthy, Mr. Timothy J    male  54.0      0   \n",
            "11                           Bonnell, Miss. Elizabeth  female  58.0      0   \n",
            "23                       Sloper, Mr. William Thompson    male  28.0      0   \n",
            "\n",
            "    Parch    Ticket     Fare Cabin Embarked  \n",
            "1       0  PC 17599  71.2833   C85        C  \n",
            "3       0    113803  53.1000  C123        S  \n",
            "6       0     17463  51.8625   E46        S  \n",
            "11      0    113783  26.5500  C103        S  \n",
            "23      0    113788  35.5000    A6        S  \n"
          ]
        }
      ]
    },
    {
      "cell_type": "markdown",
      "source": [
        "3.\tFilter the Titanic dataset for cases where the passenger’s age is less than 18 and the passenger is female (Sex is \"female\"), assigning it to female under 18. View the printed result."
      ],
      "metadata": {
        "id": "0yKATJXzjJh7"
      }
    },
    {
      "cell_type": "code",
      "source": [
        "# Filter the Titanic dataset for passengers under 18 and female\n",
        "female_under_18 = df[(df['Age'] < 18) & (df['Sex'] == 'female')]\n",
        "\n",
        "# Print the result\n",
        "print(\"\\nFemale passengers under 18:\")\n",
        "print(female_under_18.head())\n"
      ],
      "metadata": {
        "colab": {
          "base_uri": "https://localhost:8080/"
        },
        "id": "Sld61SiljJFL",
        "outputId": "be88e55a-7a45-4f09-d087-d4d9b66e1aa8"
      },
      "execution_count": 4,
      "outputs": [
        {
          "output_type": "stream",
          "name": "stdout",
          "text": [
            "\n",
            "Female passengers under 18:\n",
            "    PassengerId  Survived  Pclass                                  Name  \\\n",
            "9            10         1       2   Nasser, Mrs. Nicholas (Adele Achem)   \n",
            "10           11         1       3       Sandstrom, Miss. Marguerite Rut   \n",
            "14           15         0       3  Vestrom, Miss. Hulda Amanda Adolfina   \n",
            "22           23         1       3           McGowan, Miss. Anna \"Annie\"   \n",
            "24           25         0       3         Palsson, Miss. Torborg Danira   \n",
            "\n",
            "       Sex   Age  SibSp  Parch   Ticket     Fare Cabin Embarked  \n",
            "9   female  14.0      1      0   237736  30.0708   NaN        C  \n",
            "10  female   4.0      1      1  PP 9549  16.7000    G6        S  \n",
            "14  female  14.0      0      0   350406   7.8542   NaN        S  \n",
            "22  female  15.0      0      0   330923   8.0292   NaN        Q  \n",
            "24  female   8.0      3      1   349909  21.0750   NaN        S  \n"
          ]
        }
      ]
    },
    {
      "cell_type": "markdown",
      "source": [
        "**Subsetting Rows by Categorical variables:**\n",
        "1.\tFilter the Titanic dataset for passengers whose Embarked port is either \"C\" (Cherbourg) or \"S\" (Southampton), assigning the result to embarked c  or s. View the printed result.\n"
      ],
      "metadata": {
        "id": "Pf9LjlnnjQcv"
      }
    },
    {
      "cell_type": "code",
      "source": [
        "# Filter the Titanic dataset for passengers who embarked at 'C' or 'S'\n",
        "embarked_c_or_s = df[df['Embarked'].isin(['C', 'S'])]\n",
        "\n",
        "# Print the result\n",
        "print(\"\\nPassengers who embarked at 'C' or 'S':\")\n",
        "print(embarked_c_or_s.head())\n"
      ],
      "metadata": {
        "colab": {
          "base_uri": "https://localhost:8080/"
        },
        "id": "XCaGgUWDjUuS",
        "outputId": "193c5f4a-31f7-42c3-9d70-621165ba9872"
      },
      "execution_count": 5,
      "outputs": [
        {
          "output_type": "stream",
          "name": "stdout",
          "text": [
            "\n",
            "Passengers who embarked at 'C' or 'S':\n",
            "   PassengerId  Survived  Pclass  \\\n",
            "0            1         0       3   \n",
            "1            2         1       1   \n",
            "2            3         1       3   \n",
            "3            4         1       1   \n",
            "4            5         0       3   \n",
            "\n",
            "                                                Name     Sex   Age  SibSp  \\\n",
            "0                            Braund, Mr. Owen Harris    male  22.0      1   \n",
            "1  Cumings, Mrs. John Bradley (Florence Briggs Th...  female  38.0      1   \n",
            "2                             Heikkinen, Miss. Laina  female  26.0      0   \n",
            "3       Futrelle, Mrs. Jacques Heath (Lily May Peel)  female  35.0      1   \n",
            "4                           Allen, Mr. William Henry    male  35.0      0   \n",
            "\n",
            "   Parch            Ticket     Fare Cabin Embarked  \n",
            "0      0         A/5 21171   7.2500   NaN        S  \n",
            "1      0          PC 17599  71.2833   C85        C  \n",
            "2      0  STON/O2. 3101282   7.9250   NaN        S  \n",
            "3      0            113803  53.1000  C123        S  \n",
            "4      0            373450   8.0500   NaN        S  \n"
          ]
        }
      ]
    },
    {
      "cell_type": "markdown",
      "source": [
        "2.\tFilter the Titanic dataset for passengers whose Pclass is in the list [1, 2] (indicating first or second class), assigning the result to first second class.View the printed result."
      ],
      "metadata": {
        "id": "wVz5xpJojZid"
      }
    },
    {
      "cell_type": "code",
      "source": [
        "# Filter the Titanic dataset for passengers in Pclass 1 or 2\n",
        "first_second_class = df[df['Pclass'].isin([1, 2])]\n",
        "\n",
        "# Print the result\n",
        "print(\"\\nPassengers in First or Second Class:\")\n",
        "print(first_second_class.head())\n"
      ],
      "metadata": {
        "colab": {
          "base_uri": "https://localhost:8080/"
        },
        "id": "NNV72xV-jZRm",
        "outputId": "dce4c03e-ade3-471d-dda6-272bbc3a7607"
      },
      "execution_count": 6,
      "outputs": [
        {
          "output_type": "stream",
          "name": "stdout",
          "text": [
            "\n",
            "Passengers in First or Second Class:\n",
            "    PassengerId  Survived  Pclass  \\\n",
            "1             2         1       1   \n",
            "3             4         1       1   \n",
            "6             7         0       1   \n",
            "9            10         1       2   \n",
            "11           12         1       1   \n",
            "\n",
            "                                                 Name     Sex   Age  SibSp  \\\n",
            "1   Cumings, Mrs. John Bradley (Florence Briggs Th...  female  38.0      1   \n",
            "3        Futrelle, Mrs. Jacques Heath (Lily May Peel)  female  35.0      1   \n",
            "6                             McCarthy, Mr. Timothy J    male  54.0      0   \n",
            "9                 Nasser, Mrs. Nicholas (Adele Achem)  female  14.0      1   \n",
            "11                           Bonnell, Miss. Elizabeth  female  58.0      0   \n",
            "\n",
            "    Parch    Ticket     Fare Cabin Embarked  \n",
            "1       0  PC 17599  71.2833   C85        C  \n",
            "3       0    113803  53.1000  C123        S  \n",
            "6       0     17463  51.8625   E46        S  \n",
            "9       0    237736  30.0708   NaN        C  \n",
            "11      0    113783  26.5500  C103        S  \n"
          ]
        }
      ]
    }
  ]
}