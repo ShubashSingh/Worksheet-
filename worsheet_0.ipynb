{
  "nbformat": 4,
  "nbformat_minor": 0,
  "metadata": {
    "colab": {
      "provenance": []
    },
    "kernelspec": {
      "name": "python3",
      "display_name": "Python 3"
    },
    "language_info": {
      "name": "python"
    }
  },
  "cells": [
    {
      "cell_type": "markdown",
      "source": [
        "**To Do Task**\n"
      ],
      "metadata": {
        "id": "EFfipbW9LqC3"
      }
    },
    {
      "cell_type": "markdown",
      "source": [
        "**Task 1. Classify Temperatures:**"
      ],
      "metadata": {
        "id": "uftM8cOhMPhK"
      }
    },
    {
      "cell_type": "markdown",
      "source": [
        "1.\tCreate empty lists for temperature classifications:\n",
        "(a)\tCold: temperatures below 10°C.\n",
        "(b)\tMild: temperatures between 10°C and 15°C.\n",
        "(c)\tComfortable: temperatures between 15°C and 20°C.\n",
        "2.\tIterate over the temperatures list and add each temperature to the appropriate category.\n",
        "3.\tPrint the lists to verify the classifications.\n"
      ],
      "metadata": {
        "id": "3ZKgAM8cQQ4m"
      }
    },
    {
      "cell_type": "code",
      "execution_count": null,
      "metadata": {
        "colab": {
          "base_uri": "https://localhost:8080/"
        },
        "id": "FJzw80Y8k9Fe",
        "outputId": "590b2ac8-81d6-4afa-e843-e391c2d65e2a"
      },
      "outputs": [
        {
          "output_type": "stream",
          "name": "stdout",
          "text": [
            "Cold temperatures: [8.2, 7.9, 9.0, 8.5, 7.7, 8.4, 9.5, 8.1, 7.6, 8.0, 7.8, 8.7, 9.2, 8.3, 8.9, 7.8]\n",
            "Mild temperatures: [14.1, 13.5, 13.0, 12.9, 13.3, 14.0, 13.4, 14.2, 12.8, 13.7, 13.6, 13.8, 13.9, 12.7, 13.1, 12.5]\n",
            "Comfortable temperatures: [17.4, 18.0, 17.8, 16.5, 17.2, 16.7, 18.3, 17.9, 17.0, 16.8, 17.5, 17.1, 18.1, 16.4, 18.2, 16.6]\n"
          ]
        }
      ],
      "source": [
        "# Temperature data\n",
        "temperatures = [\n",
        "    8.2, 17.4, 14.1, 7.9, 18.0, 13.5, 9.0, 17.8, 13.0, 8.5,\n",
        "    16.5, 12.9, 7.7, 17.2, 13.3, 8.4, 16.7, 14.0, 9.5, 18.3,\n",
        "    13.4, 8.1, 17.9, 14.2, 7.6, 17.0, 12.8, 8.0, 16.8, 13.7,\n",
        "    7.8, 17.5, 13.6, 8.7, 17.1, 13.8, 9.2, 18.1, 13.9, 8.3,\n",
        "    16.4, 12.7, 8.9, 18.2, 13.1, 7.8, 16.6, 12.5\n",
        "]\n",
        "\n",
        "# 1. Create empty lists for classifications\n",
        "cold = []         # Temperatures below 10°C\n",
        "mild = []         # Temperatures between 10°C and 15°C\n",
        "comfortable = []  # Temperatures between 15°C and 20°C\n",
        "\n",
        "# 2. Classify temperatures\n",
        "for temp in temperatures:\n",
        "    if temp < 10:\n",
        "        cold.append(temp)\n",
        "    elif 10 <= temp < 15:\n",
        "        mild.append(temp)\n",
        "    elif 15 <= temp <= 20:\n",
        "        comfortable.append(temp)\n",
        "\n",
        "# 3. Print the classified lists\n",
        "print(\"Cold temperatures:\", cold)\n",
        "print(\"Mild temperatures:\", mild)\n",
        "print(\"Comfortable temperatures:\", comfortable)\n"
      ]
    },
    {
      "cell_type": "markdown",
      "source": [
        "**Task 2. Based on Data - Answer all the Questions:**\n",
        "1. How many times was it mild?\n",
        "(a)\tHint: Count the number of items in the mild list and print the result.\n",
        "2.\tHow many times was it comfortable?\n",
        "3.\tHow many times was it cold?\n"
      ],
      "metadata": {
        "id": "FK-Mdg59SIv1"
      }
    },
    {
      "cell_type": "code",
      "source": [
        "# Temperature data (classified from Task 1)\n",
        "cold = [8.2, 7.9, 9.0, 8.5, 7.7, 8.4, 9.5, 8.1, 7.6, 8.0, 7.8, 8.7, 9.2, 8.3, 8.9, 7.8]\n",
        "mild = [14.1, 13.5, 13.0, 12.9, 13.3, 14.0, 13.4, 14.2, 12.8, 13.7, 13.6, 13.8, 13.9, 12.7, 13.1, 12.5]\n",
        "comfortable = [17.4, 18.0, 17.8, 16.5, 17.2, 16.7, 18.3, 17.9, 17.0, 16.8, 17.5, 17.1, 18.1, 16.4, 18.2, 16.6]\n",
        "\n",
        "# 1. How many times was it mild?\n",
        "mild_count = len(mild)\n",
        "\n",
        "# 2. How many times was it comfortable?\n",
        "comfortable_count = len(comfortable)\n",
        "\n",
        "# 3. How many times was it cold?\n",
        "cold_count = len(cold)\n",
        "\n",
        "# Print the results\n",
        "print(\"Number of times it was mild:\", mild_count)\n",
        "print(\"Number of times it was comfortable:\", comfortable_count)\n",
        "print(\"Number of times it was cold:\", cold_count)\n"
      ],
      "metadata": {
        "colab": {
          "base_uri": "https://localhost:8080/"
        },
        "id": "AiiS1IWKJtif",
        "outputId": "554a0c93-b2c6-4366-cfbb-20d1155af6de"
      },
      "execution_count": null,
      "outputs": [
        {
          "output_type": "stream",
          "name": "stdout",
          "text": [
            "Number of times it was mild: 16\n",
            "Number of times it was comfortable: 16\n",
            "Number of times it was cold: 16\n"
          ]
        }
      ]
    },
    {
      "cell_type": "markdown",
      "source": [
        "**Task 3. Convert Temperatures from Celsius to Fahrenheit**\n",
        "Using the formula for temperature conversion, convert each reading from Celsius to Fahrenheit and store it in a new list called temperatures_fahrenheit.\n",
        "\tFormula:\tFahrenheit = (Celsius\n",
        "1.\tIterate over the temperatures list and apply the formula to convert each temperature.\n",
        "2.\tStore the results in the new list.\n",
        "3.\tPrint the converted Fahrenheit values.\n"
      ],
      "metadata": {
        "id": "fDDctX9_SYln"
      }
    },
    {
      "cell_type": "code",
      "source": [
        "# Temperature data\n",
        "temperatures = [\n",
        "    8.2, 17.4, 14.1, 7.9, 18.0, 13.5, 9.0, 17.8, 13.0, 8.5,\n",
        "    16.5, 12.9, 7.7, 17.2, 13.3, 8.4, 16.7, 14.0, 9.5, 18.3,\n",
        "    13.4, 8.1, 17.9, 14.2, 7.6, 17.0, 12.8, 8.0, 16.8, 13.7,\n",
        "    7.8, 17.5, 13.6, 8.7, 17.1, 13.8, 9.2, 18.1, 13.9, 8.3,\n",
        "    16.4, 12.7, 8.9, 18.2, 13.1, 7.8, 16.6, 12.5\n",
        "]\n",
        "\n",
        "# Conversion formula: Fahrenheit = (Celsius * 9/5) + 32\n",
        "temperatures_fahrenheit = []\n",
        "\n",
        "# Convert each temperature to Fahrenheit\n",
        "for temp in temperatures:\n",
        "    fahrenheit = (temp * 9/5) + 32\n",
        "    temperatures_fahrenheit.append(fahrenheit)\n",
        "\n",
        "# Print the converted Fahrenheit values\n",
        "print(\"Temperatures in Fahrenheit:\", temperatures_fahrenheit)\n"
      ],
      "metadata": {
        "colab": {
          "base_uri": "https://localhost:8080/"
        },
        "id": "faXgEVxKSffB",
        "outputId": "028dbbf7-f06c-4372-e32f-901dded9523c"
      },
      "execution_count": null,
      "outputs": [
        {
          "output_type": "stream",
          "name": "stdout",
          "text": [
            "Temperatures in Fahrenheit: [46.76, 63.32, 57.379999999999995, 46.22, 64.4, 56.3, 48.2, 64.04, 55.4, 47.3, 61.7, 55.22, 45.86, 62.959999999999994, 55.94, 47.120000000000005, 62.059999999999995, 57.2, 49.1, 64.94, 56.120000000000005, 46.58, 64.22, 57.56, 45.68, 62.6, 55.04, 46.4, 62.24, 56.66, 46.04, 63.5, 56.48, 47.66, 62.78, 56.84, 48.56, 64.58, 57.02, 46.94, 61.519999999999996, 54.86, 48.02, 64.75999999999999, 55.58, 46.04, 61.88, 54.5]\n"
          ]
        }
      ]
    },
    {
      "cell_type": "markdown",
      "source": [
        "**Task 4. Analyze Temperature Patterns by Time of Day:**\n",
        "Scenario: Each day’s readings are grouped as:\n",
        "•\tNight (00-08),\n",
        "•\tEvening (08-16),\n",
        "•\tDay (16-24).\n",
        "1.\tCreate empty lists for night, day, and evening temperatures.\n",
        "2.\tIterate over the temperatures list, assigning values to each time-of-day list based on their position.\n",
        "3.\tCalculate and print the average day-time temperature.\n",
        "4.\t(Optional) Plot ”day vs. temperature” using matplotlib.\n"
      ],
      "metadata": {
        "id": "UqRUEimNTJVF"
      }
    },
    {
      "cell_type": "code",
      "source": [
        "# Temperature data\n",
        "temperatures = [\n",
        "    8.2, 17.4, 14.1, 7.9, 18.0, 13.5, 9.0, 17.8, 13.0, 8.5,\n",
        "    16.5, 12.9, 7.7, 17.2, 13.3, 8.4, 16.7, 14.0, 9.5, 18.3,\n",
        "    13.4, 8.1, 17.9, 14.2, 7.6, 17.0, 12.8, 8.0, 16.8, 13.7,\n",
        "    7.8, 17.5, 13.6, 8.7, 17.1, 13.8, 9.2, 18.1, 13.9, 8.3,\n",
        "    16.4, 12.7, 8.9, 18.2, 13.1, 7.8, 16.6, 12.5\n",
        "]\n",
        "\n",
        "# 1. Create empty lists for each time-of-day grouping\n",
        "night = []    # Night (00-08)\n",
        "evening = []  # Evening (08-16)\n",
        "day = []      # Day (16-24)\n",
        "\n",
        "# 2. Group temperatures based on their position in the list\n",
        "for i in range(len(temperatures)):\n",
        "    if i % 3 == 0:       # Night (every third reading starting at index 0)\n",
        "        night.append(temperatures[i])\n",
        "    elif i % 3 == 1:     # Evening (every third reading starting at index 1)\n",
        "        evening.append(temperatures[i])\n",
        "    elif i % 3 == 2:     # Day (every third reading starting at index 2)\n",
        "        day.append(temperatures[i])\n",
        "\n",
        "# 3. Calculate the average daytime temperature\n",
        "average_day_temp = sum(day) / len(day)\n",
        "\n",
        "# Print the results\n",
        "print(\"Night temperatures:\", night)\n",
        "print(\"Evening temperatures:\", evening)\n",
        "print(\"Day temperatures:\", day)\n",
        "print(\"\\nAverage daytime temperature:\", average_day_temp)\n",
        "\n",
        "# 4. Optional: Plot \"day vs. temperature\" using matplotlib\n",
        "import matplotlib.pyplot as plt\n",
        "\n",
        "plt.plot(day, label='Daytime Temperatures', color='orange', marker='o')\n",
        "plt.title(\"Daytime Temperatures Over Days\")\n",
        "plt.xlabel(\"Day Index\")\n",
        "plt.ylabel(\"Temperature (°C)\")\n",
        "plt.legend()\n",
        "plt.grid(True)\n",
        "plt.show()\n"
      ],
      "metadata": {
        "colab": {
          "base_uri": "https://localhost:8080/",
          "height": 559
        },
        "id": "ifeeYedPTO7E",
        "outputId": "aaa4cefd-1e04-441d-8eec-5bf774f81aa6"
      },
      "execution_count": null,
      "outputs": [
        {
          "output_type": "stream",
          "name": "stdout",
          "text": [
            "Night temperatures: [8.2, 7.9, 9.0, 8.5, 7.7, 8.4, 9.5, 8.1, 7.6, 8.0, 7.8, 8.7, 9.2, 8.3, 8.9, 7.8]\n",
            "Evening temperatures: [17.4, 18.0, 17.8, 16.5, 17.2, 16.7, 18.3, 17.9, 17.0, 16.8, 17.5, 17.1, 18.1, 16.4, 18.2, 16.6]\n",
            "Day temperatures: [14.1, 13.5, 13.0, 12.9, 13.3, 14.0, 13.4, 14.2, 12.8, 13.7, 13.6, 13.8, 13.9, 12.7, 13.1, 12.5]\n",
            "\n",
            "Average daytime temperature: 13.40625\n"
          ]
        },
        {
          "output_type": "display_data",
          "data": {
            "text/plain": [
              "<Figure size 640x480 with 1 Axes>"
            ],
            "image/png": "[encoded data removed]"
          },
          "metadata": {}
        }
      ]
    },
    {
      "cell_type": "markdown",
      "source": [
        "**8\tProblem based on Popular Algorithm.**\n",
        "**8.1.1Exercise - Recursion:**\n",
        "\n",
        "**Task 1 - Sum of Nested Lists:**\n",
        "\n",
        "Scenario: You have a list that contains numbers and other lists of numbers (nested lists). You want to find the total sum of all the numbers in this structure. Task:\n",
        "•\tWrite a recursive function sum_nested_list(nested_list) that:\n",
        "1.\tTakes a nested list (a list that can contain numbers or other lists of numbers) as input.\n",
        "2.\tSums all numbers at every depth level of the list, regardless of how deeply nested the numbers are.\n",
        "•\tTest the function with a sample nested list, such as nested_list = [1, [2, [3, 4], 5], 6, [7, 8]].\n",
        "The result should be the total sum of all the numbers.\n"
      ],
      "metadata": {
        "id": "DMtaz5xvToBN"
      }
    },
    {
      "cell_type": "code",
      "source": [
        "def sum_nested_list(nested_list):\n",
        "    \"\"\"\n",
        "    Recursively calculates the sum of all numbers in a nested list.\n",
        "\n",
        "    Args:\n",
        "        nested_list (list): A list that can contain numbers or other lists of numbers.\n",
        "\n",
        "    Returns:\n",
        "        int: The total sum of all the numbers in the nested list.\n",
        "    \"\"\"\n",
        "    total = 0  # Initialize total sum\n",
        "\n",
        "    for element in nested_list:\n",
        "        if isinstance(element, list):  # If the element is a list, recurse\n",
        "            total += sum_nested_list(element)\n",
        "        else:  # If the element is a number, add to total\n",
        "            total += element\n",
        "\n",
        "    return total\n"
      ],
      "metadata": {
        "id": "5UjQHAjBX9nv"
      },
      "execution_count": null,
      "outputs": []
    },
    {
      "cell_type": "code",
      "source": [
        "# Sample nested list\n",
        "nested_list = [1, [2, [3, 4], 5], 6, [7, 8]]\n",
        "\n",
        "# Calculate the total sum\n",
        "result = sum_nested_list(nested_list)\n",
        "\n",
        "# Print the result\n",
        "print(f\"The total sum of numbers in the nested list is: {result}\")\n"
      ],
      "metadata": {
        "colab": {
          "base_uri": "https://localhost:8080/"
        },
        "id": "kZTICykErFNr",
        "outputId": "87e54e93-0292-4ae0-a173-c80d1e5f7314"
      },
      "execution_count": null,
      "outputs": [
        {
          "output_type": "stream",
          "name": "stdout",
          "text": [
            "The total sum of numbers in the nested list is: 36\n"
          ]
        }
      ]
    },
    {
      "cell_type": "markdown",
      "source": [
        "**Task 2 - Generate All Permutations of a String:**\n",
        "\n",
        "Scenario: Given a string, generate all possible permutations of its characters. This is useful for understanding backtracking and recursive depth-first search. Task:\n",
        "•\tWrite a recursive function generate_permutations(s) that:\n",
        "– Takes a string s as input and returns a list of all unique permutations.\n",
        "•\tTest with strings like ”abc” and ”aab”.\n",
        "print(generate_permutations(\"abc\"))\n",
        "# Should return [’abc’, ’acb’, ’bac’, ’bca’, ’cab’, ’cba’]\n"
      ],
      "metadata": {
        "id": "ELYrWBUwrT84"
      }
    },
    {
      "cell_type": "code",
      "source": [
        "def generate_permutations(s):\n",
        "    \"\"\"\n",
        "    Recursively generates all unique permutations of a string.\n",
        "\n",
        "    Args:\n",
        "        s (str): The input string.\n",
        "\n",
        "    Returns:\n",
        "        list: A list of all unique permutations.\n",
        "    \"\"\"\n",
        "    # Base case: A single character or empty string has one permutation\n",
        "    if len(s) <= 1:\n",
        "        return [s]\n",
        "\n",
        "    # Store permutations in a set to avoid duplicates\n",
        "    permutations = set()\n",
        "\n",
        "    for i, char in enumerate(s):\n",
        "        # Exclude the current character and permute the rest\n",
        "        remaining = s[:i] + s[i+1:]\n",
        "\n",
        "        # Recursive call\n",
        "        for perm in generate_permutations(remaining):\n",
        "            # Add current character to each permutation of the remaining string\n",
        "            permutations.add(char + perm)\n",
        "\n",
        "    return list(permutations)  # Convert to a list for the final output\n"
      ],
      "metadata": {
        "id": "KePl7ECMx7Ci"
      },
      "execution_count": null,
      "outputs": []
    },
    {
      "cell_type": "code",
      "source": [
        "# Test cases\n",
        "print(generate_permutations(\"abc\"))  # ['abc', 'acb', 'bac', 'bca', 'cab', 'cba']\n",
        "print(generate_permutations(\"aab\"))  # ['aab', 'aba', 'baa']\n"
      ],
      "metadata": {
        "colab": {
          "base_uri": "https://localhost:8080/"
        },
        "id": "8OJR5d5Pya-H",
        "outputId": "519afc0b-b4b0-46dc-9562-1090cb5672aa"
      },
      "execution_count": null,
      "outputs": [
        {
          "output_type": "stream",
          "name": "stdout",
          "text": [
            "['cab', 'abc', 'acb', 'bca', 'bac', 'cba']\n",
            "['aab', 'aba', 'baa']\n"
          ]
        }
      ]
    },
    {
      "cell_type": "markdown",
      "source": [
        "**Task 3 - Directory Size Calculation:**\n",
        "\n",
        "Directory Size Calculation Scenario: Imagine a file system where directories can contain files (with sizes in KB) and other directories. You want to calculate the total size of a directory, including all nested files and subdirectories.\n",
        "Sample directory structure.\n",
        "\n",
        "Task:\n",
        "1.\tWrite a recursive function calculate_directory_size(directory) where:\n",
        "•\tdirectory is a dictionary where keys represent file names (with values as sizes in KB) or directory names (with values as another dictionary representing a subdirectory).\n",
        "•\tThe function should return the total size of the directory, including all nested subdirectories.\n",
        "2.\tTest the function with a sample directory structure.\n"
      ],
      "metadata": {
        "id": "eMAxIcCKyzuO"
      }
    },
    {
      "cell_type": "code",
      "source": [
        "def calculate_directory_size(directory):\n",
        "    \"\"\"\n",
        "    Recursively calculates the total size of a directory, including all nested files and subdirectories.\n",
        "\n",
        "    Args:\n",
        "        directory (dict): The directory structure where:\n",
        "            - Keys are file or subdirectory names.\n",
        "            - Values are file sizes (int) in KB or another dictionary representing a subdirectory.\n",
        "\n",
        "    Returns:\n",
        "        int: The total size of the directory in KB.\n",
        "    \"\"\"\n",
        "    total_size = 0  # Initialize total size\n",
        "\n",
        "    for name, content in directory.items():\n",
        "        if isinstance(content, dict):  # If the content is a subdirectory, recurse\n",
        "            total_size += calculate_directory_size(content)\n",
        "        else:  # If the content is a file size, add it to the total\n",
        "            total_size += content\n",
        "\n",
        "    return total_size\n"
      ],
      "metadata": {
        "id": "HsVjO1hQzTp1"
      },
      "execution_count": null,
      "outputs": []
    },
    {
      "cell_type": "code",
      "source": [
        "# Sample directory structure\n",
        "directory_structure = {\n",
        "    \"file1.txt\": 200,\n",
        "    \"file2.txt\": 300,\n",
        "    \"subdir1\": {\n",
        "        \"file3.txt\": 400,\n",
        "        \"file4.txt\": 100\n",
        "    },\n",
        "    \"subdir2\": {\n",
        "        \"subsubdir1\": {\n",
        "            \"file5.txt\": 250\n",
        "        },\n",
        "        \"file6.txt\": 150\n",
        "    }\n",
        "}\n",
        "\n",
        "# Calculate the total size of the directory\n",
        "total_size = calculate_directory_size(directory_structure)\n",
        "\n",
        "# Print the result\n",
        "print(f\"The total size of the directory is: {total_size} KB\")\n"
      ],
      "metadata": {
        "colab": {
          "base_uri": "https://localhost:8080/"
        },
        "id": "mqWYko_6zsMw",
        "outputId": "8da82d6c-37d2-4beb-d32c-880b4e37a5e9"
      },
      "execution_count": null,
      "outputs": [
        {
          "output_type": "stream",
          "name": "stdout",
          "text": [
            "The total size of the directory is: 1400 KB\n"
          ]
        }
      ]
    },
    {
      "cell_type": "markdown",
      "source": [
        "**8.2.2\tExercises - Dynamic Programming:**\n",
        "\n",
        "**Task 1 - Coin Change Problem:**\n",
        "\n",
        "Scenario: Given a set of coin denominations and a target amount, find the minimum number of coins needed to make the amount. If it’s not possible, return - 1. Task:\n",
        "1.\tWrite a function min_coins(coins, amount) that: • Uses DP to calculate the minimum number of coins needed to make up the amount.\n",
        "2.\tTest with coins = [1, 2, 5] and amount = 11. The result should be 3 (using coins\n",
        "[5, 5, 1]).\n"
      ],
      "metadata": {
        "id": "6HJGO-ZXz1Jo"
      }
    },
    {
      "cell_type": "code",
      "source": [
        "def min_coins(coins, amount):\n",
        "    # Initialize the DP array with a large value\n",
        "    dp = [float('inf')] * (amount + 1)\n",
        "    dp[0] = 0  # Base case: 0 coins needed for amount 0\n",
        "\n",
        "    # Iterate through each amount\n",
        "    for i in range(1, amount + 1):\n",
        "        for coin in coins:\n",
        "            if i - coin >= 0:  # If the coin can contribute to the amount\n",
        "                dp[i] = min(dp[i], dp[i - coin] + 1)\n",
        "\n",
        "    # If the amount cannot be formed, return -1\n",
        "    return dp[amount] if dp[amount] != float('inf') else -1\n",
        "\n",
        "# Test the function\n",
        "coins = [1, 2, 5]\n",
        "amount = 11\n",
        "result = min_coins(coins, amount)\n",
        "print(f\"Minimum coins needed to make amount {amount}: {result}\")\n"
      ],
      "metadata": {
        "colab": {
          "base_uri": "https://localhost:8080/"
        },
        "id": "07dnm_N01Xbn",
        "outputId": "d5200e7a-e0d3-4bf2-b0fc-5fda7b593b8a"
      },
      "execution_count": null,
      "outputs": [
        {
          "output_type": "stream",
          "name": "stdout",
          "text": [
            "Minimum coins needed to make amount 11: 3\n"
          ]
        }
      ]
    },
    {
      "cell_type": "markdown",
      "source": [
        "**Task 2 - Longest Common Subsequence (LCS):**\n",
        "\n",
        "Scenario: Given two strings, find the length of their longest common subsequence (LCS). This is useful in text comparison. Task:\n",
        "1. Write a function longest_common_subsequence(s1, s2) that:\n",
        "• Uses DP to find the length of the LCS of two strings s1 and s2.\n",
        "2. Test with strings like \"abcde\" and \"ace\"; the LCS length should be 3 (\"ace\").\n"
      ],
      "metadata": {
        "id": "_iRQ1uqz1kPA"
      }
    },
    {
      "cell_type": "code",
      "source": [
        "def longest_common_subsequence(s1, s2):\n",
        "    # Lengths of the input strings\n",
        "    m, n = len(s1), len(s2)\n",
        "\n",
        "    # Initialize the DP table with 0\n",
        "    dp = [[0] * (n + 1) for _ in range(m + 1)]\n",
        "\n",
        "    # Fill the DP table\n",
        "    for i in range(1, m + 1):\n",
        "        for j in range(1, n + 1):\n",
        "            if s1[i - 1] == s2[j - 1]:  # Characters match\n",
        "                dp[i][j] = dp[i - 1][j - 1] + 1\n",
        "            else:  # Characters don't match\n",
        "                dp[i][j] = max(dp[i - 1][j], dp[i][j - 1])\n",
        "\n",
        "    # The LCS length is in the bottom-right cell of the table\n",
        "    return dp[m][n]\n",
        "\n",
        "# Test the function\n",
        "s1 = \"abcde\"\n",
        "s2 = \"ace\"\n",
        "result = longest_common_subsequence(s1, s2)\n",
        "print(f\"The length of the LCS of '{s1}' and '{s2}' is: {result}\")\n"
      ],
      "metadata": {
        "colab": {
          "base_uri": "https://localhost:8080/"
        },
        "id": "CgJra6to1-a2",
        "outputId": "a61ab5ee-2556-4a71-8115-3751aca78b3c"
      },
      "execution_count": null,
      "outputs": [
        {
          "output_type": "stream",
          "name": "stdout",
          "text": [
            "The length of the LCS of 'abcde' and 'ace' is: 3\n"
          ]
        }
      ]
    },
    {
      "cell_type": "code",
      "source": [
        "#final DP table.\n",
        "dp = [\n",
        "    [0, 0, 0, 0],\n",
        "    [0, 1, 1, 1],\n",
        "    [0, 1, 1, 1],\n",
        "    [0, 1, 2, 2],\n",
        "    [0, 1, 2, 2],\n",
        "    [0, 1, 2, 3]\n",
        "]\n"
      ],
      "metadata": {
        "id": "PiKwxcN72Eo7"
      },
      "execution_count": null,
      "outputs": []
    },
    {
      "cell_type": "markdown",
      "source": [
        "**Task 3 - 0/1 Knapsack Problem:**\n",
        "\n",
        "Scenario: You have a list of items, each with a weight and a value. Given a weight capacity, maximize the total value of items you can carry without exceeding the weight capacity. Task:\n",
        "1.\tWrite a function knapsack(weights, values, capacity) that: • Uses DP to determine the maximum value that can be achieved within the given weight capacity.\n",
        "2.\tTest with weights [1, 3, 4, 5], values [1, 4, 5, 7], and capacity 7. The result should be 9.\n"
      ],
      "metadata": {
        "id": "NxCib5N12m2X"
      }
    },
    {
      "cell_type": "code",
      "source": [
        "def knapsack(weights, values, capacity):\n",
        "    # Number of items\n",
        "    n = len(weights)\n",
        "\n",
        "    # Initialize the DP table with 0\n",
        "    dp = [[0] * (capacity + 1) for _ in range(n + 1)]\n",
        "\n",
        "    # Fill the DP table\n",
        "    for i in range(1, n + 1):\n",
        "        for w in range(1, capacity + 1):\n",
        "            if weights[i - 1] > w:  # Current item's weight exceeds capacity\n",
        "                dp[i][w] = dp[i - 1][w]\n",
        "            else:  # Include or exclude the current item\n",
        "                dp[i][w] = max(dp[i - 1][w], values[i - 1] + dp[i - 1][w - weights[i - 1]])\n",
        "\n",
        "    # The maximum value is in the last cell\n",
        "    return dp[n][capacity]\n",
        "\n",
        "# Test the function\n",
        "weights = [1, 3, 4, 5]\n",
        "values = [1, 4, 5, 7]\n",
        "capacity = 7\n",
        "result = knapsack(weights, values, capacity)\n",
        "print(f\"The maximum value that can be achieved is: {result}\")\n"
      ],
      "metadata": {
        "colab": {
          "base_uri": "https://localhost:8080/"
        },
        "id": "EuV4gOjc2yPF",
        "outputId": "5f5eb52b-91b8-45f7-ad61-0096963496b7"
      },
      "execution_count": null,
      "outputs": [
        {
          "output_type": "stream",
          "name": "stdout",
          "text": [
            "The maximum value that can be achieved is: 9\n"
          ]
        }
      ]
    },
    {
      "cell_type": "markdown",
      "source": [
        "**9\tClosing Remarks on Recursive and Dynamic Algorithm.**\n",
        "\n",
        "Dynamic Programming (DP) and recursion are both techniques used to solve problems by breaking them down into smaller sub-problems. However, they differ significantly in how they approach problem-solving and how efficiently they execute. Here’s a comparison of both approaches:\n",
        "1.\tProblem Solving Approach:\n",
        "\n",
        "•\tRecursion:\n",
        "1.\tRecursion is generally easier to implement when solving problems with a clear recursive structure, like tree traversal or calculating factorials.\n",
        "2.\tIt is suitable for problems where each subproblem is independent and doesn’t need to store its results for reuse.\n",
        "\n",
        "•\tDynamic Programming:\n",
        "1.\tDP is used for problems that have optimal substructure and overlapping subproblems. It’s more complex to implement than simple recursion because it requires designing a table or memoization structure.\n",
        "2.\tDP is more suitable for optimization problems, like shortest path problems, knapsack problems, etc., where storing intermediate results is crucial for efficient computation.\n"
      ],
      "metadata": {
        "id": "tRDPQIxNZq9b"
      }
    },
    {
      "cell_type": "code",
      "source": [
        "# Recursive Solution (Inefficient):\n",
        "def fib(n):\n",
        "    if n <= 1:\n",
        "        return n\n",
        "    return fib(n - 1) + fib(n - 2)\n"
      ],
      "metadata": {
        "id": "PwfcZ5fDaVSc"
      },
      "execution_count": null,
      "outputs": []
    },
    {
      "cell_type": "code",
      "source": [
        "# Dynamic Programming Solution (Efficient): Using Memoization:\n",
        "def fib(n, memo={}):\n",
        "    if n in memo:\n",
        "        return memo[n]\n",
        "    if n <= 1:\n",
        "        return n\n",
        "    memo[n] = fib(n - 1, memo) + fib(n - 2, memo)\n",
        "    return memo[n]\n"
      ],
      "metadata": {
        "id": "oys40olaaXI-"
      },
      "execution_count": null,
      "outputs": []
    },
    {
      "cell_type": "code",
      "source": [
        "# Using Tabulation:\n",
        "def fib(n):\n",
        "    dp = [0] * (n + 1)\n",
        "    dp[1] = 1\n",
        "    for i in range(2, n + 1):\n",
        "        dp[i] = dp[i - 1] + dp[i - 2]\n",
        "    return dp[n]\n"
      ],
      "metadata": {
        "id": "W6G4G9aZaeVf"
      },
      "execution_count": null,
      "outputs": []
    },
    {
      "cell_type": "markdown",
      "source": [
        "**2.\tWhen to Use Which?**\n",
        "\n",
        "•\tUse Recursion:\n",
        "1.\tWhen the problem naturally fits a recursive structure and does not involve overlapping sub-problems.\n",
        "2.\tWhen the problem has a small problem size (so the overhead of recursion is minimal) or when an elegant, simple solution is needed without worrying about performance.\n",
        "3.\tExamples: Tree traversal, divide-and-conquer algorithms (like merge sort).\n",
        "\n",
        "•\tUse Dynamic Programming:\n",
        "1.\tWhen the problem involves overlapping sub-problems and optimal substructure.\n",
        "2.\tWhen you need to optimize recursive solutions to avoid redundant work.\n",
        "3.\tExamples: Knapsack problem, Fibonacci sequence, shortest path algorithms (e.g., Dijkstra’s, Bellman-Ford).\n"
      ],
      "metadata": {
        "id": "T5C4iMLZbgOb"
      }
    },
    {
      "cell_type": "code",
      "source": [
        "# Tree Traversal:\n",
        "def inorder_traversal(node):\n",
        "    if node is None:\n",
        "        return\n",
        "    inorder_traversal(node.left)\n",
        "    print(node.val)\n",
        "    inorder_traversal(node.right)\n"
      ],
      "metadata": {
        "id": "kHyglme3bnYI"
      },
      "execution_count": null,
      "outputs": []
    },
    {
      "cell_type": "code",
      "source": [
        "# Merge Sort:\n",
        "def merge_sort(arr):\n",
        "    if len(arr) <= 1:\n",
        "        return arr\n",
        "    mid = len(arr) // 2\n",
        "    left = merge_sort(arr[:mid])\n",
        "    right = merge_sort(arr[mid:])\n",
        "    return merge(left, right)\n"
      ],
      "metadata": {
        "id": "-lDrvuk2cCj5"
      },
      "execution_count": null,
      "outputs": []
    },
    {
      "cell_type": "code",
      "source": [
        "# Knapsack Problem:\n",
        "def knapsack(weights, values, capacity):\n",
        "    n = len(weights)\n",
        "    dp = [[0] * (capacity + 1) for _ in range(n + 1)]\n",
        "    for i in range(1, n + 1):\n",
        "        for w in range(capacity + 1):\n",
        "            if weights[i - 1] <= w:\n",
        "                dp[i][w] = max(dp[i - 1][w], values[i - 1] + dp[i - 1][w - weights[i - 1]])\n",
        "            else:\n",
        "                dp[i][w] = dp[i - 1][w]\n",
        "    return dp[n][capacity]\n"
      ],
      "metadata": {
        "id": "oxb0zBi0cPZM"
      },
      "execution_count": null,
      "outputs": []
    },
    {
      "cell_type": "code",
      "source": [
        "# Recursive with Memoization:\n",
        "def fib(n, memo={}):\n",
        "    if n in memo:\n",
        "        return memo[n]\n",
        "    if n <= 1:\n",
        "        return n\n",
        "    memo[n] = fib(n - 1, memo) + fib(n - 2, memo)\n",
        "    return memo[n]\n"
      ],
      "metadata": {
        "id": "kzvzBvcOcZ4l"
      },
      "execution_count": null,
      "outputs": []
    }
  ]
}